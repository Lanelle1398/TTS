{
 "cells": [
  {
   "cell_type": "markdown",
   "metadata": {},
   "source": [
    "Data Science Fundamentals: Python |\n",
    "[Table of Contents](../index.ipynb)\n",
    "- - - \n",
    "<!--NAVIGATION-->\n",
    "Module 8. | [Inheritance & Methods](./01_oop_inheritance.ipynb) | [Sequences, Iterables, Generators Revisited](02_revisited.ipynb) | **[Exercises](./03_inheritance_methods_exercises.ipynb)**"
   ]
  },
  {
   "cell_type": "markdown",
   "metadata": {},
   "source": [
    "# Module 8: Practice Exercises"
   ]
  },
  {
   "cell_type": "markdown",
   "metadata": {},
   "source": [
    "## Exercise 1. "
   ]
  },
  {
   "cell_type": "markdown",
   "metadata": {},
   "source": [
    "You are given two classes, Person and Student, where Person is the base class and Student is the derived class. Completed code for Person and a declaration for Student are provided for you in the editor. Observe that Student inherits all the properties of Person.\n",
    "\n",
    "Complete the Student class by writing the following:\n",
    "\n",
    "A Student class constructor, which has 4 parameters:\n",
    "- A string, firstName\n",
    "- A string, lastName\n",
    "- An integer, id\n",
    "An integer array (or vector) of test scores, scores\n",
    "\n",
    "A char **calculate()** method that calculates a Student object's average and returns the grade character representative of their calculated average:\n",
    "```\n",
    "A | 90-100\n",
    "B | 80-89\n",
    "C | 70-79\n",
    "D | 60-69\n",
    "F | <60\n",
    "```"
   ]
  },
  {
   "cell_type": "code",
   "execution_count": null,
   "metadata": {},
   "outputs": [
    {
     "name": "stdout",
     "output_type": "stream",
     "text": [
      "First name: Gary\n"
     ]
    }
   ],
   "source": [
    "import statistics\n",
    "class Person:\n",
    "    fname = \"\"\n",
    "    lname = \"\"\n",
    "    def desc(self):\n",
    "        desc_person = \"%s %s is a person.\" % (self.fname, self.lname)\n",
    "        return desc_person\n",
    "\n",
    "class Student(Person):\n",
    "      def desc(self):\n",
    "           desc_person = \"First name: %s \\nLast name: %s \\nStudent ID: %d\" % (self.fname, self.lname, self.studentID)\n",
    "           return desc_person\n",
    "        \n",
    "class Grades(Student):\n",
    "      def desc(self, myList):\n",
    "            averageVal=statistics.mean(myList)\n",
    "            if  90 <= averageVal <= 100:\n",
    "                x=\"A\"\n",
    "            if  80 <= averageVal < 90:\n",
    "                x=\"B\"\n",
    "            if  70 <=  averageVal < 80:\n",
    "                x=\"C\"\n",
    "            if  60 <=  averageVal < 70:\n",
    "                x=\"D\"\n",
    "            if   averageVal  < 50:\n",
    "                x=\"F\"\n",
    "            desc_person = self.fname2+ \" \" + self.lname2 + \" \" + \"Student ID \" + str(self.studentID2) + \", you got a \" + x\n",
    "            return desc_person\n",
    "            \n",
    "person2 = Student()\n",
    "person2.fname =input(\"First name: \")\n",
    "person2.lname = input(\"Last name: \")\n",
    "person2.studentID=int(input(\"Student ID: \"))\n",
    "\n",
    "studentGrades=Grades()\n",
    "studentGrades.fname2=person2.fname\n",
    "studentGrades.lname2=person2.lname\n",
    "studentGrades.studentID2=person2.studentID\n",
    "\n",
    "\n",
    "input_int_array= [int(x) for x in input(\"Enter a list of grades separated by a space \").split()]\n",
    "print(studentGrades.desc(input_int_array))\n",
    "\n"
   ]
  },
  {
   "cell_type": "markdown",
   "metadata": {},
   "source": [
    "[How To Submit Your Exercises](https://www.youtube.com/watch?v=GCd4auHwZZY)"
   ]
  },
  {
   "cell_type": "markdown",
   "metadata": {},
   "source": [
    "- - - \n",
    "<!--NAVIGATION-->\n",
    "Module 8. | [Inheritance & Methods](./01_oop_inheritance.ipynb) | [Sequences, Iterables, Generators Revisited](02_revisited.ipynb) | **[Exercises](./03_inheritance_methods_exercises.ipynb)**\n",
    "<br>\n",
    "[Top](#)"
   ]
  },
  {
   "cell_type": "markdown",
   "metadata": {},
   "source": [
    "- - -\n",
    "\n",
    "Copyright © 2020 Qualex Consulting Services Incorporated."
   ]
  },
  {
   "cell_type": "code",
   "execution_count": null,
   "metadata": {},
   "outputs": [],
   "source": []
  }
 ],
 "metadata": {
  "kernelspec": {
   "display_name": "Python 3 (ipykernel)",
   "language": "python",
   "name": "python3"
  },
  "language_info": {
   "codemirror_mode": {
    "name": "ipython",
    "version": 3
   },
   "file_extension": ".py",
   "mimetype": "text/x-python",
   "name": "python",
   "nbconvert_exporter": "python",
   "pygments_lexer": "ipython3",
   "version": "3.9.12"
  }
 },
 "nbformat": 4,
 "nbformat_minor": 4
}
